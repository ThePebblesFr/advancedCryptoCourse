{
 "cells": [
  {
   "cell_type": "markdown",
   "metadata": {},
   "source": [
    "## Elliptic curves"
   ]
  },
  {
   "cell_type": "code",
   "execution_count": 232,
   "metadata": {},
   "outputs": [],
   "source": [
    "import random\n",
    "\n",
    "# CONSTANTES\n",
    "\n",
    "a = 0\n",
    "b = 3\n",
    "p = 7\n",
    "\n",
    "# CONVERSIONS\n",
    "\n",
    "def invModulaire(a, p):\n",
    "    return pow(a, p - 2) % p\n",
    "\n",
    "def fromCartesianToJacobian(P, z):\n",
    "    return ((P[0] * (z ** 2)) % p, (P[1] * (z ** 3)) % p, z)\n",
    "\n",
    "def fromJacobianToCartesian(P):\n",
    "    invZ = invModulaire(P[2], p)\n",
    "    return ((P[0] * (invZ ** 2)) % p, (P[1] * (invZ ** 3)) % p)"
   ]
  },
  {
   "cell_type": "markdown",
   "metadata": {},
   "source": [
    "### 1. Opérations sur les points d'une courbe elliptique en coordonnées carthésiennes:\n",
    "\n",
    "- Inverse modulaire\n",
    "- Addition\n",
    "- Doublement\n",
    "- Appartenance d'un point à la courbe"
   ]
  },
  {
   "cell_type": "code",
   "execution_count": 233,
   "metadata": {},
   "outputs": [
    {
     "name": "stdout",
     "output_type": "stream",
     "text": [
      "[CARTESIAN-] P + Q = (3, 3)\n",
      "[CARTESIAN-]    2P = (6, 3)\n"
     ]
    }
   ],
   "source": [
    "def addition(P, Q, p):\n",
    "    lam = ((Q[1] - P[1]) * invModulaire(Q[0] - P[0], 7)) % p\n",
    "    x_3 = (lam ** 2 - P[0] - Q[0])\n",
    "    y_3 = (lam * (P[0] - x_3) - P[1])\n",
    "    return (x_3 % p, y_3 % p)\n",
    "\n",
    "def doublement(P, p, a):\n",
    "    lam = ((3 * (P[0] ** 2) + a) * invModulaire(2 * P[1], 7))\n",
    "    x_2 = (lam ** 2 - 2 * P[0]) % p\n",
    "    y_2 = (lam * (P[0] - x_2) - P[1]) % p\n",
    "    return (x_2, y_2)\n",
    "\n",
    "def onTheCurve(P, p, a, b):\n",
    "    return ((P[1] ** 2) % p == (P[0] ** 3 + a * P[0] + b) % p)\n",
    "\n",
    "P = (1, 2)\n",
    "Q = (4, 5)\n",
    "add = addition(P, Q, p)\n",
    "print(\"[CARTESIAN-] P + Q = \" + str(add))\n",
    "double = doublement(P, p, a)\n",
    "print(\"[CARTESIAN-]    2P = \" + str(double))"
   ]
  },
  {
   "cell_type": "markdown",
   "metadata": {},
   "source": [
    "### 2. Opérations sur les points d'une courbe elliptique en coordonnées jacobiennes:\n",
    "\n",
    "- Addition\n",
    "- Doublement\n",
    "- Appartenance d'un point à la courbe"
   ]
  },
  {
   "cell_type": "code",
   "execution_count": 234,
   "metadata": {},
   "outputs": [
    {
     "name": "stdout",
     "output_type": "stream",
     "text": [
      "[JACOBIAN--] P + Q = (4, 2, 4)\n",
      "[JACOBIAN--]    2P = (1, 2, 3)\n"
     ]
    }
   ],
   "source": [
    "def addition_jacob(P, Q, p):\n",
    "    Z1Z1 = P[2] ** 2\n",
    "    Z2Z2 = Q[2] ** 2\n",
    "    U1 = P[0] * Z2Z2\n",
    "    U2 = Q[0] * Z1Z1\n",
    "    S1 = P[1] * Q[2] * Z2Z2\n",
    "    S2 = Q[1] * P[2] * Z1Z1\n",
    "    H = U2 - U1\n",
    "    I = (2 * H) ** 2\n",
    "    J = H * I\n",
    "    r = 2 * (S2 - S1)\n",
    "    V = U1 * I\n",
    "    X3 = (r ** 2 - J - 2 * V) % p\n",
    "    return (X3, (r * (V - X3) - 2 * S1 * J) % p, (((P[2] + Q[2]) ** 2 - Z1Z1 - Z2Z2) * H) % p)\n",
    "\n",
    "def doublement_jacob(P, p):\n",
    "    A = P[0] ** 2\n",
    "    B = P[1] ** 2\n",
    "    C = B ** 2\n",
    "    D = 2 * ((P[0] + B) ** 2 - A - C)\n",
    "    E = 3 * A\n",
    "    F = E ** 2\n",
    "    X3 = (F - 2 * D) % p\n",
    "    return (X3, (E * (D - X3) - 8 * C) % p, (2 * P[1] * P[2]) % p)\n",
    "\n",
    "def onTheCurve(P, p, a, b):\n",
    "    return ((P[1] ** 2) % p == (P[0] ** 3 + a * P[0] * (P[2] ** 4) + b * (P[2] ** 6)) % p)\n",
    "\n",
    "P_tilde = (5, 3, 4)\n",
    "Q_tilde = (1, 2, 1)\n",
    "add_tilde = addition_jacob(P_tilde, Q_tilde, p)\n",
    "print(\"[JACOBIAN--] P + Q = \" + str(add_tilde))\n",
    "double_tilde = doublement_jacob(P_tilde, p)\n",
    "print(\"[JACOBIAN--]    2P = \" + str(double_tilde))"
   ]
  },
  {
   "cell_type": "markdown",
   "metadata": {},
   "source": [
    "### 3. Exponentiation rapide"
   ]
  },
  {
   "cell_type": "code",
   "execution_count": 235,
   "metadata": {},
   "outputs": [
    {
     "name": "stdout",
     "output_type": "stream",
     "text": [
      "0\n"
     ]
    }
   ],
   "source": [
    "def valueBit(x, i):\n",
    "    return (x >> i) & 1\n",
    "\n",
    "def nbBits(x):\n",
    "    return len(bin(x)[2:])\n",
    "\n",
    "def exponentiation(a, k, p):\n",
    "    n = nbBits(k)\n",
    "    result = 1\n",
    "    for i in range(0, n):\n",
    "        if (valueBit(k, n - i) == 1):\n",
    "            result = result * a\n",
    "        result = result ** 2\n",
    "    return result % p\n",
    "\n",
    "def exponentiation_stylee(a, k, p):\n",
    "    n = nbBits(k)\n",
    "    result = 1\n",
    "    for i in range(0, n):\n",
    "        result = (result ** 2) * a ** (k >> n - i) & 1\n",
    "    return result % p\n",
    "\n",
    "print(exponentiation(a, 4, p))"
   ]
  },
  {
   "cell_type": "markdown",
   "metadata": {},
   "source": [
    "### 4. Multiplication par un scalaire d'un point en coordonnées jacobiennes"
   ]
  },
  {
   "cell_type": "code",
   "execution_count": 236,
   "metadata": {},
   "outputs": [
    {
     "name": "stdout",
     "output_type": "stream",
     "text": [
      "[JACOBIAN--] 3P = (5, 3, 4)\n"
     ]
    }
   ],
   "source": [
    "def multiplication_scalaire(P, k, p):\n",
    "    n = nbBits(k)\n",
    "    result = P\n",
    "    for i in range(0, n - 1):\n",
    "        result = doublement_jacob(result, p)\n",
    "        if (valueBit(k, n - i) == 1):\n",
    "            result = addition_jacob(result, P, p)\n",
    "    return result\n",
    "\n",
    "P = (1, 2, 1)\n",
    "k = 3\n",
    "multiplication_3 = multiplication_scalaire(P, k, p)\n",
    "print(\"[JACOBIAN--] \" + str(k) + \"P = \" + str(multiplication_3))"
   ]
  },
  {
   "cell_type": "markdown",
   "metadata": {},
   "source": [
    "### 5. Echelle de Montgomery"
   ]
  },
  {
   "cell_type": "code",
   "execution_count": 237,
   "metadata": {},
   "outputs": [
    {
     "name": "stdout",
     "output_type": "stream",
     "text": [
      "[JACOBIAN--] 2P = (5, 3, 3)\n",
      "[CARTESIAN-] 2P = (6, 4)\n"
     ]
    }
   ],
   "source": [
    "def echelleMontgomery(P, k, p):\n",
    "    n = nbBits(k)\n",
    "    R = [P, doublement(P, p, a)]\n",
    "    for i in range(n - 2, -1, -1):\n",
    "        b = valueBit(k, i)\n",
    "        R[1 - b] = addition(R[1 - b], R[b], p)\n",
    "        R[b] = doublement(R[b], p, a)\n",
    "    return R[0]\n",
    "\n",
    "def echelleMontgomeryJacob(P, k, p):\n",
    "    n = nbBits(k)\n",
    "    R = [P, doublement_jacob(P, p)]\n",
    "    for i in range(n - 2, -1, -1):\n",
    "        b = valueBit(k, i)\n",
    "        R[1 - b] = addition_jacob(R[1 - b], R[b], p)\n",
    "        R[b] = doublement_jacob(R[b], p)\n",
    "    return R[0]\n",
    "\n",
    "P = (1, 5, 1)\n",
    "k = 2\n",
    "R_returned = echelleMontgomeryJacob(P, k, p)\n",
    "print(\"[JACOBIAN--] \" + str(k) + \"P = \" + str(R_returned))\n",
    "print(\"[CARTESIAN-] \" + str(k) + \"P = \" + str(fromJacobianToCartesian(R_returned)))"
   ]
  },
  {
   "cell_type": "code",
   "execution_count": 238,
   "metadata": {},
   "outputs": [
    {
     "name": "stdout",
     "output_type": "stream",
     "text": [
      "2\n"
     ]
    }
   ],
   "source": [
    "def generateRandomInt(p):\n",
    "    return random.randint(1, p - 1)\n",
    "\n",
    "print(generateRandomInt(p))"
   ]
  },
  {
   "cell_type": "markdown",
   "metadata": {},
   "source": [
    "### 6. Algorithme de Diffie-Hellman"
   ]
  },
  {
   "cell_type": "code",
   "execution_count": 239,
   "metadata": {},
   "outputs": [
    {
     "name": "stdout",
     "output_type": "stream",
     "text": [
      "[ALICE-] Création d'une clé pour une communication avec Bob\n",
      "[ALICE-] Envoi de P = (5, 3), point d'ordre k = 13 qui appartient à la courbe elliptique (a, b) = (0, 3)\n",
      "[ALICE-] Génération d'un nombre aléatoire entre 1 et 13 : n1 = 8\n",
      "[BOB---] Génération d'un nombre aléatoire entre 1 et 13 : n2 = 8\n",
      "[ALICE-] Calcul de A = n1 * P = (4, 2)\n",
      "[BOB---] Calcul de B = n2 * P = (4, 2)\n",
      "[ALICE-] Calcul de C1 = (5, 4)\n",
      "[BOB---] Calcul de C2 = (5, 4)\n"
     ]
    }
   ],
   "source": [
    "def DiffieHellman(P, p, a, b, k):\n",
    "    n1 = generateRandomInt(k)\n",
    "    print(\"[ALICE-] Génération d'un nombre aléatoire entre 1 et \" + str(k) + \" : n1 = \" + str(n1))\n",
    "    n2 = generateRandomInt(k)\n",
    "    print(\"[BOB---] Génération d'un nombre aléatoire entre 1 et \" + str(k) + \" : n2 = \" + str(n2))\n",
    "    A = echelleMontgomery(P, n1, p)\n",
    "    print(\"[ALICE-] Calcul de A = n1 * P = \" + str(A))\n",
    "    B = echelleMontgomery(P, n2, p)\n",
    "    print(\"[BOB---] Calcul de B = n2 * P = \" + str(B))\n",
    "    return (echelleMontgomery(B, n1, p), echelleMontgomery(A, n2, p))\n",
    "\n",
    "P = (5, 3)\n",
    "k = 13\n",
    "print(\"[ALICE-] Création d'une clé pour une communication avec Bob\")\n",
    "print(\"[ALICE-] Envoi de P = \" + str(P) + \", point d'ordre k = \" + str(k) + \" qui appartient à la courbe elliptique (a, b) = (\" + str(a) + \", \" + str(b) + \")\")\n",
    "(C1, C2) = DiffieHellman(P, p, a, b, k)\n",
    "print(\"[ALICE-] Calcul de C1 = \" + str(C1))\n",
    "print(\"[BOB---] Calcul de C2 = \" + str(C2))"
   ]
  }
 ],
 "metadata": {
  "kernelspec": {
   "display_name": "Python 3.10.8 ('envCrypto': venv)",
   "language": "python",
   "name": "python3"
  },
  "language_info": {
   "codemirror_mode": {
    "name": "ipython",
    "version": 3
   },
   "file_extension": ".py",
   "mimetype": "text/x-python",
   "name": "python",
   "nbconvert_exporter": "python",
   "pygments_lexer": "ipython3",
   "version": "3.10.8"
  },
  "orig_nbformat": 4,
  "vscode": {
   "interpreter": {
    "hash": "35294157e49280f97186f06064a9e48a336488680659f4e874a181dc756ef999"
   }
  }
 },
 "nbformat": 4,
 "nbformat_minor": 2
}
