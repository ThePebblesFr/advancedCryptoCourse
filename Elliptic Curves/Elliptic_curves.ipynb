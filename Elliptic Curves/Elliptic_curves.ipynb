{
 "cells": [
  {
   "cell_type": "markdown",
   "metadata": {},
   "source": [
    "## Elliptic curves and ECDSA implementation\n",
    "\n",
    "|               |                          |\n",
    "|:--------------|:-------------------------|\n",
    "|Author         |P. GARREAU                |\n",
    "|Status         |Finished                  |\n",
    "|Project        |Elliptic curves and ECDSA |\n",
    "\n",
    "### Table of Content\n",
    "\n",
    "1. [Constants and conversions](#1-Constants-and-conversions)  \n",
    "2. [Operations on elliptics curves points with affine coordinates](#2-Operations-on-elliptics-curves-points-with-affine-coordinates)  \n",
    "3. [Operations on elliptics curves points with jacobian coordinates](#3-Operations-on-elliptics-curves-points-with-jacobian-coordinates)  \n",
    "4. [Quick exponenciation](#4-Quick-exponenciation)  \n",
    "5. [Scalar mulitiplication of an elliptic curve's point](#5-Scalar-mulitiplication-of-an-elliptic-curve's-point)  \n",
    "6. [Montgomery scale](#6-Montgomery-scale)  \n",
    "7. [Diffie-Hellman algorithm](#7-Diffie-Hellman-algorithm)\n",
    "8. [ECDSA (Elliptic Curve Digital Signature Algorithm)](#8-ECDSA-(Elliptic-Curve-Digital-Signature-Algorithm))  \n",
    "   8.1. [Hash function](#81-Hash-function)  \n",
    "   8.2. [Keys generation](#82-Keys-generation)  \n",
    "   8.3. [Signature](#83-Signature)  \n",
    "   8.4. [Verification](#84-Verification)  "
   ]
  },
  {
   "cell_type": "markdown",
   "metadata": {},
   "source": [
    "### 1. Constants and conversions"
   ]
  },
  {
   "cell_type": "code",
   "execution_count": 127,
   "metadata": {},
   "outputs": [],
   "source": [
    "import random\n",
    "\n",
    "# CONSTANTES\n",
    "a = 0\n",
    "b = 3\n",
    "p = 7\n",
    "n = 13\n",
    "\n",
    "# CONVERSIONS\n",
    "def invModulaire(a, p):\n",
    "    return pow(a, p - 2, p)\n",
    "\n",
    "def fromCartesianToJacobian(P, z):\n",
    "    return ((P[0] * (z ** 2)) % p, (P[1] * (z ** 3)) % p, z)\n",
    "\n",
    "def fromJacobianToCartesian(P):\n",
    "    invZ = invModulaire(P[2], p)\n",
    "    return ((P[0] * (invZ ** 2)) % p, (P[1] * (invZ ** 3)) % p)"
   ]
  },
  {
   "cell_type": "markdown",
   "metadata": {},
   "source": [
    "### 2. Operations on elliptics curves points with affine coordinates\n",
    "\n",
    "- Modular inverse\n",
    "- Addition\n",
    "- Doubling\n",
    "- Point on the curve"
   ]
  },
  {
   "cell_type": "code",
   "execution_count": 128,
   "metadata": {},
   "outputs": [
    {
     "name": "stdout",
     "output_type": "stream",
     "text": [
      "[CARTESIAN-] P + Q = (2, 2)\n",
      "[CARTESIAN-]    2P = (6, 4)\n"
     ]
    }
   ],
   "source": [
    "def addition(P, Q, p):\n",
    "    lam = ((Q[1] - P[1]) * invModulaire(Q[0] - P[0], p)) % p\n",
    "    x_3 = (lam ** 2 - P[0] - Q[0])\n",
    "    y_3 = (lam * (P[0] - x_3) - P[1])\n",
    "    return (x_3 % p, y_3 % p)\n",
    "\n",
    "def doublement(P, p, a):\n",
    "    lam = ((3 * (P[0] ** 2) + a) * invModulaire(2 * P[1], 7))\n",
    "    x_2 = (lam ** 2 - 2 * P[0]) % p\n",
    "    y_2 = (lam * (P[0] - x_2) - P[1]) % p\n",
    "    return (x_2, y_2)\n",
    "\n",
    "def onTheCurve(P, p, a, b):\n",
    "    return ((P[1] ** 2) % p == (P[0] ** 3 + a * P[0] + b) % p)\n",
    "\n",
    "P = (1, 5)\n",
    "Q = (4, 5)\n",
    "add = addition(P, Q, p)\n",
    "print(\"[CARTESIAN-] P + Q = \" + str(add))\n",
    "double = doublement(P, p, a)\n",
    "print(\"[CARTESIAN-]    2P = \" + str(double))"
   ]
  },
  {
   "cell_type": "markdown",
   "metadata": {},
   "source": [
    "### 3. Operations on elliptics curves points with jacobian coordinates\n",
    "\n",
    "- Addition\n",
    "- Doubling\n",
    "- Point on the curve"
   ]
  },
  {
   "cell_type": "code",
   "execution_count": 129,
   "metadata": {},
   "outputs": [
    {
     "name": "stdout",
     "output_type": "stream",
     "text": [
      "[JACOBIAN--] P + Q = (4, 2, 4)\n",
      "[JACOBIAN--]    2P = (1, 2, 3)\n"
     ]
    }
   ],
   "source": [
    "def addition_jacob(P, Q, p):\n",
    "    Z1Z1 = P[2] ** 2\n",
    "    Z2Z2 = Q[2] ** 2\n",
    "    U1 = P[0] * Z2Z2\n",
    "    U2 = Q[0] * Z1Z1\n",
    "    S1 = P[1] * Q[2] * Z2Z2\n",
    "    S2 = Q[1] * P[2] * Z1Z1\n",
    "    H = U2 - U1\n",
    "    I = (2 * H) ** 2\n",
    "    J = H * I\n",
    "    r = 2 * (S2 - S1)\n",
    "    V = U1 * I\n",
    "    X3 = (r ** 2 - J - 2 * V) % p\n",
    "    return (X3, (r * (V - X3) - 2 * S1 * J) % p, (((P[2] + Q[2]) ** 2 - Z1Z1 - Z2Z2) * H) % p)\n",
    "\n",
    "def doublement_jacob(P, p):\n",
    "    A = P[0] ** 2\n",
    "    B = P[1] ** 2\n",
    "    C = B ** 2\n",
    "    D = 2 * ((P[0] + B) ** 2 - A - C)\n",
    "    E = 3 * A\n",
    "    F = E ** 2\n",
    "    X3 = (F - 2 * D) % p\n",
    "    return (X3, (E * (D - X3) - 8 * C) % p, (2 * P[1] * P[2]) % p)\n",
    "\n",
    "def onTheCurveJacob(P, p, a, b):\n",
    "    return ((P[1] ** 2) % p == (P[0] ** 3 + a * P[0] * (P[2] ** 4) + b * (P[2] ** 6)) % p)\n",
    "\n",
    "P_tilde = (5, 3, 4)\n",
    "Q_tilde = (1, 2, 1)\n",
    "add_tilde = addition_jacob(P_tilde, Q_tilde, p)\n",
    "print(\"[JACOBIAN--] P + Q = \" + str(add_tilde))\n",
    "double_tilde = doublement_jacob(P_tilde, p)\n",
    "print(\"[JACOBIAN--]    2P = \" + str(double_tilde))"
   ]
  },
  {
   "cell_type": "markdown",
   "metadata": {},
   "source": [
    "### 4. Quick exponenciation"
   ]
  },
  {
   "cell_type": "code",
   "execution_count": 130,
   "metadata": {},
   "outputs": [],
   "source": [
    "def valueBit(x, i):\n",
    "    return (x >> i) & 1\n",
    "\n",
    "def nbBits(x):\n",
    "    return len(bin(x)[2:])\n",
    "\n",
    "def exponentiation(a, k, p):\n",
    "    n = nbBits(k)\n",
    "    result = 1\n",
    "    for i in range(0, n):\n",
    "        if (valueBit(k, n - i) == 1):\n",
    "            result = result * a\n",
    "        result = result ** 2\n",
    "    return result % p\n",
    "\n",
    "def exponentiation_2(a, k, p):\n",
    "    n = nbBits(k)\n",
    "    result = 1\n",
    "    for i in range(0, n):\n",
    "        result = (result ** 2) * a ** (k >> n - i) & 1\n",
    "    return result % p"
   ]
  },
  {
   "cell_type": "markdown",
   "metadata": {},
   "source": [
    "### 5. Scalar mulitiplication of an elliptic curve's point"
   ]
  },
  {
   "cell_type": "code",
   "execution_count": 131,
   "metadata": {},
   "outputs": [
    {
     "name": "stdout",
     "output_type": "stream",
     "text": [
      "[JACOBIAN--] 3P = (5, 3, 4)\n"
     ]
    }
   ],
   "source": [
    "def multiplication_scalaire(P, k, p):\n",
    "    n = nbBits(k)\n",
    "    result = P\n",
    "    for i in range(0, n - 1):\n",
    "        result = doublement_jacob(result, p)\n",
    "        if (valueBit(k, n - i) == 1):\n",
    "            result = addition_jacob(result, P, p)\n",
    "    return result\n",
    "\n",
    "P = (1, 2, 1)\n",
    "k = 3\n",
    "multiplication_3 = multiplication_scalaire(P, k, p)\n",
    "print(\"[JACOBIAN--] \" + str(k) + \"P = \" + str(multiplication_3))"
   ]
  },
  {
   "cell_type": "markdown",
   "metadata": {},
   "source": [
    "### 6. Montgomery scale"
   ]
  },
  {
   "cell_type": "code",
   "execution_count": 132,
   "metadata": {},
   "outputs": [
    {
     "name": "stdout",
     "output_type": "stream",
     "text": [
      "[JACOBIAN--] 6P = (2, 2, 4)\n",
      "[CARTESIAN-] 6P = (1, 2)\n"
     ]
    }
   ],
   "source": [
    "def echelleMontgomery(P, k, p):\n",
    "    n = nbBits(k)\n",
    "    R = [P, doublement(P, p, a)]\n",
    "    for i in range(n - 2, -1, -1):\n",
    "        b = valueBit(k, i)\n",
    "        R[1 - b] = addition(R[1 - b], R[b], p)\n",
    "        R[b] = doublement(R[b], p, a)\n",
    "    return R[0]\n",
    "\n",
    "def echelleMontgomeryJacob(P, k, p):\n",
    "    n = nbBits(k)\n",
    "    R = [P, doublement_jacob(P, p)]\n",
    "    for i in range(n - 2, -1, -1):\n",
    "        b = valueBit(k, i)\n",
    "        R[1 - b] = addition_jacob(R[1 - b], R[b], p)\n",
    "        R[b] = doublement_jacob(R[b], p)\n",
    "    return R[0]\n",
    "\n",
    "P = (6, 4, 1)\n",
    "k = 6\n",
    "R_returned = echelleMontgomeryJacob(P, k, p)\n",
    "print(\"[JACOBIAN--] \" + str(k) + \"P = \" + str(R_returned))\n",
    "print(\"[CARTESIAN-] \" + str(k) + \"P = \" + str(fromJacobianToCartesian(R_returned)))"
   ]
  },
  {
   "cell_type": "markdown",
   "metadata": {},
   "source": [
    "### 7. Diffie-Hellman algorithm"
   ]
  },
  {
   "cell_type": "code",
   "execution_count": 133,
   "metadata": {},
   "outputs": [],
   "source": [
    "def generateRandomInt(p):\n",
    "    return random.randint(1, p - 1)"
   ]
  },
  {
   "cell_type": "code",
   "execution_count": 134,
   "metadata": {},
   "outputs": [
    {
     "name": "stdout",
     "output_type": "stream",
     "text": [
      "[ALICE-] Création d'une clé pour une communication avec Bob\n",
      "[ALICE-] Envoi de P = (5, 3), point d'ordre k = 13 qui appartient à la courbe elliptique (a, b) = (0, 3)\n",
      "[ALICE-] Génération d'un nombre aléatoire entre 1 et 13 : n1 = 2\n",
      "[BOB---] Génération d'un nombre aléatoire entre 1 et 13 : n2 = 10\n",
      "[ALICE-] Calcul de A = n1 * P = (1, 5)\n",
      "[BOB---] Calcul de B = n2 * P = (3, 4)\n",
      "[ALICE-] Calcul de C1 = (2, 2)\n",
      "[BOB---] Calcul de C2 = (2, 2)\n"
     ]
    }
   ],
   "source": [
    "def DiffieHellman(P, p, a, b, k):\n",
    "    n1 = generateRandomInt(k)\n",
    "    print(\"[ALICE-] Génération d'un nombre aléatoire entre 1 et \" + str(k) + \" : n1 = \" + str(n1))\n",
    "    n2 = generateRandomInt(k)\n",
    "    print(\"[BOB---] Génération d'un nombre aléatoire entre 1 et \" + str(k) + \" : n2 = \" + str(n2))\n",
    "    A = echelleMontgomery(P, n1, p)\n",
    "    print(\"[ALICE-] Calcul de A = n1 * P = \" + str(A))\n",
    "    B = echelleMontgomery(P, n2, p)\n",
    "    print(\"[BOB---] Calcul de B = n2 * P = \" + str(B))\n",
    "    return (echelleMontgomery(B, n1, p), echelleMontgomery(A, n2, p))\n",
    "\n",
    "P = (5, 3)\n",
    "k = 13\n",
    "print(\"[ALICE-] Création d'une clé pour une communication avec Bob\")\n",
    "print(\"[ALICE-] Envoi de P = \" + str(P) + \", point d'ordre k = \" + str(k) + \" qui appartient à la courbe elliptique (a, b) = (\" + str(a) + \", \" + str(b) + \")\")\n",
    "(C1, C2) = DiffieHellman(P, p, a, b, k)\n",
    "print(\"[ALICE-] Calcul de C1 = \" + str(C1))\n",
    "print(\"[BOB---] Calcul de C2 = \" + str(C2))"
   ]
  },
  {
   "cell_type": "markdown",
   "metadata": {},
   "source": [
    "### 8. ECDSA (Elliptic Curve Digital Signature Algorithm)\n",
    "\n",
    "#### Signature Protocol\n",
    "- Alice:\n",
    "  - Key generation:\n",
    "    - Choose random number s in [1, n-1]\n",
    "    - Compute sG = Q\n",
    "    - Public key: Q\n",
    "    - Private key: s\n",
    "  - Signature:\n",
    "    - Choose random number k in [1, n-1]\n",
    "    - Compute kG = (i,j)\n",
    "    - Compute x = i % n\n",
    "    - Compute y = (1/k)*(H(m) + s * x) % n\n",
    "    - Signature: (x, y)\n",
    "- Bob:\n",
    "  - Verification:\n",
    "    - Q != O and Q on the curve\n",
    "    - nQ == O\n",
    "    - (x, y) in [1, n-1]²\n",
    "    - x = i % n\n",
    "\n"
   ]
  },
  {
   "cell_type": "markdown",
   "metadata": {},
   "source": [
    "#### 8.1. Hash function"
   ]
  },
  {
   "cell_type": "code",
   "execution_count": 135,
   "metadata": {},
   "outputs": [],
   "source": [
    "def hashFunction(m):\n",
    "    returned_message = \"\"\n",
    "    for i in range(0, len(m)):\n",
    "        returned_message += str(ord(m[i]))\n",
    "    return int(returned_message)"
   ]
  },
  {
   "cell_type": "markdown",
   "metadata": {},
   "source": [
    "#### 8.2. Keys generation"
   ]
  },
  {
   "cell_type": "code",
   "execution_count": 136,
   "metadata": {},
   "outputs": [
    {
     "name": "stdout",
     "output_type": "stream",
     "text": [
      "[------] Génération des clés\n",
      "[ALICE-] Clé publique Q = (5, 4) et clé privée : s = 3\n"
     ]
    }
   ],
   "source": [
    "print(\"[------] Génération des clés\")\n",
    "# Choosing s in [1, n-1] :\n",
    "s = generateRandomInt(n)\n",
    "# Computing Q using G = (5, 3):\n",
    "G = fromCartesianToJacobian((6, 4), 1)\n",
    "Q = echelleMontgomeryJacob(G, s, p)\n",
    "print(\"[ALICE-] Clé publique Q = \" + str(fromJacobianToCartesian(Q)) + \" et clé privée : s = \" + str(s))"
   ]
  },
  {
   "cell_type": "markdown",
   "metadata": {},
   "source": [
    "#### 8.3. Signature"
   ]
  },
  {
   "cell_type": "code",
   "execution_count": 137,
   "metadata": {},
   "outputs": [
    {
     "name": "stdout",
     "output_type": "stream",
     "text": [
      "[------] Signature\n",
      "[ALICE-] (x, y) = (6, 2) and k = 12\n"
     ]
    }
   ],
   "source": [
    "print(\"[------] Signature\")\n",
    "m = \"J'aime ce module\"\n",
    "x = 0\n",
    "y = 0\n",
    "while (x == 0 or y == 0):\n",
    "    # Choosing k in [1, n-1] :\n",
    "    k = generateRandomInt(n)\n",
    "    # Computing (i, j) using G = (5, 3) and k:\n",
    "    P = echelleMontgomeryJacob(G, k, p)\n",
    "    (i, j) = fromJacobianToCartesian(P)\n",
    "    x = i % n\n",
    "    inv_k = invModulaire(k, n)\n",
    "    y = (inv_k * (hashFunction(m) % n + s * x)) % n\n",
    "\n",
    "print(\"[ALICE-] (x, y) = (\" + str(x) + \", \" + str(y) + \") and k = \" + str(k))"
   ]
  },
  {
   "cell_type": "markdown",
   "metadata": {},
   "source": [
    "#### 8.4. Verification"
   ]
  },
  {
   "cell_type": "code",
   "execution_count": 138,
   "metadata": {},
   "outputs": [
    {
     "name": "stdout",
     "output_type": "stream",
     "text": [
      "[------] Verification\n",
      "[BOB---] OK ! Q on the curve\n",
      "[BOB---] nQ = (1, 1, 0)\n",
      "[BOB---] OK ! nQ = O\n",
      "[BOB---] OK ! (x,y) appartiennent à [1, n-1]\n",
      "[BOB---] (i, j) = (6, 3)\n",
      "[BOB---] OK ! Verification réussie\n"
     ]
    }
   ],
   "source": [
    "print(\"[------] Verification\")\n",
    "# Q on the curve verification:\n",
    "if (onTheCurve(Q, p, a, b)):\n",
    "    print(\"[BOB---] OK ! Q on the curve\")\n",
    "else:\n",
    "    print(\"[BOB---] Not OK ! Q not on the curve\")\n",
    "\n",
    "# nQ equal to infinite point:\n",
    "infinitePoint = (1, 1, 0)\n",
    "nQ = echelleMontgomeryJacob(Q, n, p)\n",
    "print(\"[BOB---] nQ = \" + str(nQ))\n",
    "if (nQ[2] == 0):\n",
    "    print(\"[BOB---] OK ! nQ = O\")\n",
    "else:\n",
    "    print(\"[BOB---] Not OK ! nQ != O\")\n",
    "\n",
    "# x and y in [1, n-1]:\n",
    "if (1 <= x <= n - 1 and 1 <= y <= n - 1):\n",
    "    print(\"[BOB---] OK ! (x,y) appartiennent à [1, n-1]\")\n",
    "else:\n",
    "    print(\"[BOB---] Not OK ! (x,y) n'appartiennent pas à [1, n-1]\")\n",
    "\n",
    "inv_y = invModulaire(y, n)\n",
    "inter1 = echelleMontgomeryJacob(G, ((hashFunction(m) * inv_y) % n), p)\n",
    "inter2 = echelleMontgomeryJacob(Q, ((x * inv_y) % n), p)\n",
    "P = addition_jacob(inter1, inter2, p)\n",
    "P_cartesian = fromJacobianToCartesian(P)\n",
    "print(\"[BOB---] (i, j) = \" + str(P_cartesian))\n",
    "\n",
    "# x = i % p\n",
    "if (x == (P_cartesian[0] % n)):\n",
    "    print(\"[BOB---] OK ! Verification réussie\")\n",
    "else:\n",
    "    print(\"[BOB---] Not OK ! x différent de i modulo p\")"
   ]
  }
 ],
 "metadata": {
  "kernelspec": {
   "display_name": "Python 3.10.8 ('envCrypto': venv)",
   "language": "python",
   "name": "python3"
  },
  "language_info": {
   "codemirror_mode": {
    "name": "ipython",
    "version": 3
   },
   "file_extension": ".py",
   "mimetype": "text/x-python",
   "name": "python",
   "nbconvert_exporter": "python",
   "pygments_lexer": "ipython3",
   "version": "3.10.8"
  },
  "orig_nbformat": 4,
  "vscode": {
   "interpreter": {
    "hash": "35294157e49280f97186f06064a9e48a336488680659f4e874a181dc756ef999"
   }
  }
 },
 "nbformat": 4,
 "nbformat_minor": 2
}
