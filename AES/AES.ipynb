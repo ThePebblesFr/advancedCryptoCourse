{
 "cells": [
  {
   "cell_type": "markdown",
   "metadata": {},
   "source": [
    "## Advanced cryptography course - ISMIN - Advanced Encryption Standard\n",
    "\n",
    "|               |                          |\n",
    "|:--------------|:-------------------------|\n",
    "|Author         |P. GARREAU                |\n",
    "|Status         |Finished                  |\n",
    "|Project        |Advanced Cryptography     |\n",
    "\n",
    "### Table of Content\n",
    "\n",
    "1. [Types conversions](#1-Types-conversions)  \n",
    "2. [Elementary transformations](#2-Elementary-transformations)  \n",
    "    2.1. [AddRoundKey](#21-AddRoundKey)  \n",
    "    2.2. [SubBytes](#22-SubBytes)  \n",
    "    2.3. [ShiftRows](#23-ShiftRows)  \n",
    "    2.4. [MixColumns](#24-MixColumns)  \n",
    "3. [Key Expansion](#3-Key-Expansion)  \n",
    "4. [AES Round](#4-AES-Round)  \n",
    "5. [AES Encoding](#5-AES-Encoding)  \n",
    "\n",
    "### Useful links\n",
    "\n",
    "This notebook is based on the following paper anouncing AES : [FIPS 197, Advanced Encryption Standard (AES)](https://nvlpubs.nist.gov/nistpubs/fips/nist.fips.197.pdf)"
   ]
  },
  {
   "cell_type": "code",
   "execution_count": 171,
   "metadata": {},
   "outputs": [],
   "source": [
    "import crypto\n",
    "import copy"
   ]
  },
  {
   "cell_type": "markdown",
   "metadata": {},
   "source": [
    "### 1. Types conversions\n",
    "\n",
    "This section deals with all types conversions we will need in the AES process. Here are all types needed :\n",
    "\n",
    "- Text : string\n",
    "- Bloc : list of length 32, each element is an 8-bits number corresponding to an hexadecimal representation of a character.\n",
    "- Type State : array of ength 4x4, each element is an 8-bits number.\n",
    "- Key : a 128-bits hexadecimal number, reprensenting a key used in an AES round."
   ]
  },
  {
   "cell_type": "code",
   "execution_count": 172,
   "metadata": {},
   "outputs": [],
   "source": [
    "def nbBlocs(text):\n",
    "    nbBlocs = 0\n",
    "    for i in range(0, len(text)):\n",
    "        if (i % 16 == 0):\n",
    "            nbBlocs += 1\n",
    "    return nbBlocs\n",
    "\n",
    "def textToBloc(text):\n",
    "    bloc = []\n",
    "    for i in range(0, len(text)):\n",
    "        bloc.append(ord(text[i]))\n",
    "    while (len(bloc) % 16 != 0):\n",
    "        bloc.append(0)\n",
    "    return bloc\n",
    "\n",
    "def keyToText(key):\n",
    "    text = \"\"\n",
    "    for i in range(0, 16):\n",
    "        text += chr(key >> (128 - 8 * (i + 1)) & 0xFF)\n",
    "    return text\n",
    "\n",
    "def blocToTypeState(bloc):\n",
    "    state_out = [ [ 0 for i in range(0, 4) ] for j in range(0, 4) ]\n",
    "    for i in range(0, 4):\n",
    "        for j in range(0, 4):\n",
    "            state_out[i][j] = bloc[(4 * j + i)]\n",
    "    return state_out\n",
    "\n",
    "def typeStateToBloc(state):\n",
    "    bloc_out = []\n",
    "    for i in range(0, 16):\n",
    "        bloc_out.append(state[i % 4][i // 4])\n",
    "    return bloc_out\n",
    "\n",
    "def blocToText(bloc):\n",
    "    text_out = \"\"\n",
    "    for i in range(0, 16):\n",
    "        text_out += format(bloc[i], '02x')\n",
    "        if (i % 4 == 3):\n",
    "            text_out += \" \"\n",
    "    return text_out"
   ]
  },
  {
   "cell_type": "markdown",
   "metadata": {},
   "source": [
    "### 2. Elementary transformations\n",
    "\n",
    "AES encoding uses 4 elementary transformations that we are going to implement one after the other. Here are some details about these transformations:\n",
    "\n",
    "- AddRoundKey: return the result (type_state) of a xor operation between a input type_state and a key.\n",
    "- SubBytes: return the result (type_state) of a substitution of each byte of an input type_state thanks to a SBox.\n",
    "- ShiftRows: return the result (type_state) of a shift of each row of i elements towards the left of an input type_state.\n",
    "- MixColumns: return the result (type_state) of a matrix multiplication in a Galois Corps of each column of an input type_state and a matrix."
   ]
  },
  {
   "cell_type": "markdown",
   "metadata": {},
   "source": [
    "#### 2.1. AddRoundKey"
   ]
  },
  {
   "cell_type": "code",
   "execution_count": 173,
   "metadata": {},
   "outputs": [],
   "source": [
    "def AddRoundKey(state_in, key):\n",
    "    state_out = copy.deepcopy(state_in)\n",
    "    for i in range (0, 4):\n",
    "        for j in range (0, 4):\n",
    "            state_out[i][j] = state_in[i][j] ^ key[i][j]\n",
    "    return state_out"
   ]
  },
  {
   "cell_type": "markdown",
   "metadata": {},
   "source": [
    "#### 2.2. SubBytes"
   ]
  },
  {
   "cell_type": "code",
   "execution_count": 174,
   "metadata": {},
   "outputs": [],
   "source": [
    "SBox_hexa = [[0x63,  0x7c, 0x77, 0x7b, 0xf2, 0x6b, 0x6f, 0xc5, 0x30, 0x01, 0x67, 0x2b, 0xfe, 0xd7, 0xab, 0x76],\n",
    "[0xca, 0x82, 0xc9, 0x7d, 0xfa, 0x59, 0x47, 0xf0, 0xad, 0xd4, 0xa2, 0xaf, 0x9c, 0xa4, 0x72, 0xc0],\n",
    "[0xb7, 0xfd, 0x93, 0x26, 0x36, 0x3f, 0xf7, 0xcc, 0x34, 0xa5, 0xe5, 0xf1, 0x71, 0xd8, 0x31, 0x15],\n",
    "[0x04, 0xc7, 0x23, 0xc3, 0x18, 0x96, 0x05, 0x9a, 0x07, 0x12, 0x80, 0xe2, 0xeb, 0x27, 0xb2, 0x75],\n",
    "[0x09, 0x83, 0x2c, 0x1a, 0x1b, 0x6e, 0x5a, 0xa0, 0x52, 0x3b, 0xd6, 0xb3, 0x29, 0xe3, 0x2f, 0x84],\n",
    "[0x53, 0xd1, 0x00, 0xed, 0x20, 0xfc, 0xb1, 0x5b, 0x6a, 0xcb, 0xbe, 0x39, 0x4a, 0x4c, 0x58, 0xcf],\n",
    "[0xd0, 0xef, 0xaa, 0xfb, 0x43, 0x4d, 0x33, 0x85, 0x45, 0xf9, 0x02, 0x7f, 0x50, 0x3c, 0x9f, 0xa8],\n",
    "[0x51, 0xa3, 0x40, 0x8f, 0x92, 0x9d, 0x38, 0xf5, 0xbc, 0xb6, 0xda, 0x21, 0x10, 0xff, 0xf3, 0xd2],\n",
    "[0xcd, 0x0c, 0x13, 0xec, 0x5f, 0x97, 0x44, 0x17, 0xc4, 0xa7, 0x7e, 0x3d, 0x64, 0x5d, 0x19, 0x73],\n",
    "[0x60, 0x81, 0x4f, 0xdc, 0x22, 0x2a, 0x90, 0x88, 0x46, 0xee, 0xb8, 0x14, 0xde, 0x5e, 0x0b, 0xdb],\n",
    "[0xe0, 0x32, 0x3a, 0x0a, 0x49, 0x06, 0x24, 0x5c, 0xc2, 0xd3, 0xac, 0x62, 0x91, 0x95, 0xe4, 0x79],\n",
    "[0xe7, 0xc8, 0x37, 0x6d, 0x8d, 0xd5, 0x4e, 0xa9, 0x6c, 0x56, 0xf4, 0xea, 0x65, 0x7a, 0xae, 0x08],\n",
    "[0xba, 0x78, 0x25, 0x2e, 0x1c, 0xa6, 0xb4, 0xc6, 0xe8, 0xdd, 0x74, 0x1f, 0x4b, 0xbd, 0x8b, 0x8a],\n",
    "[0x70, 0x3e, 0xb5, 0x66, 0x48, 0x03, 0xf6, 0x0e, 0x61, 0x35, 0x57, 0xb9, 0x86, 0xc1, 0x1d, 0x9e],\n",
    "[0xe1, 0xf8, 0x98, 0x11, 0x69, 0xd9, 0x8e, 0x94, 0x9b, 0x1e, 0x87, 0xe9, 0xce, 0x55, 0x28, 0xdf],\n",
    "[0x8c, 0xa1, 0x89, 0x0d, 0xbf, 0xe6, 0x42, 0x68, 0x41, 0x99, 0x2d, 0x0f, 0xb0, 0x54, 0xbb, 0x16]]\n",
    "\n",
    "def SubBytes(state_in):\n",
    "    state_out = copy.deepcopy(state_in)\n",
    "    for i in range(0, 4):\n",
    "        for j in range(0, 4):\n",
    "            indice_ligne = (state_in[i][j] >> 4) & 0xF\n",
    "            indice_colonne = state_in[i][j] & 0xF\n",
    "            state_out[i][j] = SBox_hexa[indice_ligne][indice_colonne]\n",
    "    return state_out"
   ]
  },
  {
   "cell_type": "markdown",
   "metadata": {},
   "source": [
    "#### 2.3. ShiftRows"
   ]
  },
  {
   "cell_type": "code",
   "execution_count": 175,
   "metadata": {},
   "outputs": [],
   "source": [
    "def ShiftRows(state_in):\n",
    "    state_out = copy.deepcopy(state_in)\n",
    "    for i in range(0, 4):\n",
    "        for j in range(0, 4):\n",
    "            state_out[i][(j - i + 4) % 4] = state_in[i][j]\n",
    "    return state_out"
   ]
  },
  {
   "cell_type": "markdown",
   "metadata": {},
   "source": [
    "#### 2.4. MixColumns"
   ]
  },
  {
   "cell_type": "code",
   "execution_count": 176,
   "metadata": {},
   "outputs": [],
   "source": [
    "MatrixMixColumn = [[2, 3, 1, 1], [1, 2, 3, 1], [1, 1, 2, 3], [3, 1, 1, 2]]\n",
    "Polynome0 = 283\n",
    "\n",
    "def Mul2(x):\n",
    "    return x << 1 if x >> 7 == 0 else x << 1 ^ Polynome0\n",
    "\n",
    "def Mul3(x):\n",
    "    return (Mul2(x) ^ x) if (Mul2(x) ^ x) >> 8 == 0 else (Mul2(x) ^ x) ^ Polynome0\n",
    "\n",
    "def MixColumn(state_in):\n",
    "    state_out = copy.deepcopy(state_in)\n",
    "    for i in range(0, 4):\n",
    "        for j in range(0, 4):\n",
    "            result_item = 0\n",
    "            for k in range(0, 4):\n",
    "                if (MatrixMixColumn[i][k] == 2):\n",
    "                    product = Mul2(state_in[k][j])\n",
    "                elif (MatrixMixColumn[i][k] == 3):\n",
    "                    product = Mul3(state_in[k][j])\n",
    "                else:\n",
    "                    product = state_in[k][j]\n",
    "                result_item ^= product\n",
    "            state_out[i][j] = result_item\n",
    "    return state_out"
   ]
  },
  {
   "cell_type": "markdown",
   "metadata": {},
   "source": [
    "### 3. Key Expansion\n",
    "\n",
    "This section deals with the expansion of a given key. Thanks to a 128-bits input key, this section creates 11 128-bits keys derivated from the original key."
   ]
  },
  {
   "cell_type": "code",
   "execution_count": 177,
   "metadata": {},
   "outputs": [],
   "source": [
    "Nk = 4\n",
    "Nb = 4\n",
    "Nr = 10\n",
    "Rcon = [0x00000000, 0x01000000, 0x02000000, 0x04000000, 0x08000000, 0x10000000, 0x20000000, 0x40000000, 0x80000000, 0x1b000000, 0x36000000]\n",
    "\n",
    "def SubWord(word):\n",
    "    returned_word = 0x00000000\n",
    "    for i in range(0, 4):\n",
    "        indice_ligne = (word >> 8 * i + 4) & 0x0000000F\n",
    "        indice_colonne = (word >> 8 * i) & 0x0000000F\n",
    "        returned_word = returned_word ^ (SBox_hexa[indice_ligne][indice_colonne] << 8 * i)\n",
    "    return returned_word\n",
    "\n",
    "def RotWord(word):\n",
    "    returned_word = (word & 0x00FFFFFF) << 8\n",
    "    return returned_word ^ word >> 24\n",
    "\n",
    "def KeyExpansion(key):\n",
    "    w = [ 0x00000000 for _ in range(0, Nb * (Nr + 1)) ]\n",
    "    temp = 0x00000000\n",
    "\n",
    "    for i in range(0, Nk):\n",
    "        w[i] = (key >> (Nk - i - 1) * 32) & 0xFFFFFFFF\n",
    "\n",
    "    for i in range(Nk, Nb * (Nr + 1)):\n",
    "        temp = w[i - 1]\n",
    "        if (i % Nk == 0):\n",
    "            temp = SubWord(RotWord(temp)) ^ Rcon[i // Nk]\n",
    "        w[i] = w[i - Nk] ^ temp\n",
    "    return w\n",
    "\n",
    "def wordsToKey(words):\n",
    "    return (words[0] << 96) ^ (words[1] << 64) ^ (words[2] << 32) ^ words[3]"
   ]
  },
  {
   "cell_type": "markdown",
   "metadata": {},
   "source": [
    "### 4. AES Round\n",
    "\n",
    "This section perfoms a round of AES encryption. It takes under consideration which round it is to make sure it performs the right transformations."
   ]
  },
  {
   "cell_type": "code",
   "execution_count": 178,
   "metadata": {},
   "outputs": [],
   "source": [
    "def AESRound(state_in, i):\n",
    "    # print(\"Round \" + str(i))\n",
    "    state_out = copy.deepcopy(state_in)\n",
    "    if (i == 0):\n",
    "        # print(\"[AESRound--] Transformations : AddRoundKey\")\n",
    "        state_out = AddRoundKey(state_in, keys_type_state[i])\n",
    "    elif (i == 10):\n",
    "        # print(\"[AESRound--] Transformations : AddRoundKey / ShiftRows / SubBytes\")\n",
    "        state_out = AddRoundKey(ShiftRows(SubBytes(state_in)), keys_type_state[i])\n",
    "    else:\n",
    "        # print(\"[AESRound--] Transformations : AddRoundKey / MixColumn / ShiftRows / SubBytes\")\n",
    "        # print(blocToText(typeStateToBloc(SubBytes(state_in))))\n",
    "        # print(blocToText(typeStateToBloc(ShiftRows(SubBytes(state_in)))))\n",
    "        # print(blocToText(typeStateToBloc(MixColumn(ShiftRows(SubBytes(state_in))))))\n",
    "\n",
    "        # print(blocToText(typeStateToBloc(keys_type_state[i])))\n",
    "        state_out = AddRoundKey(MixColumn(ShiftRows(SubBytes(state_in))), keys_type_state[i])\n",
    "    # print(blocToText(typeStateToBloc(state_out)))\n",
    "    return state_out"
   ]
  },
  {
   "cell_type": "markdown",
   "metadata": {},
   "source": [
    "### 5. AES Encoding\n",
    "\n",
    "In this section, we encode each 128-bits bloc one by one."
   ]
  },
  {
   "cell_type": "code",
   "execution_count": 179,
   "metadata": {},
   "outputs": [
    {
     "name": "stdout",
     "output_type": "stream",
     "text": [
      "Text to cipher : j'aime ce module car il est trop bien\n",
      "[AES-------] Starting encoding text\n",
      "[AESBLOC---] Starting encoding bloc 0\n",
      "[AESBLOC---] Bloc 0 encoded\n",
      "[AESBLOC---] Starting encoding bloc 1\n",
      "[AESBLOC---] Bloc 1 encoded\n",
      "[AESBLOC---] Starting encoding bloc 2\n",
      "[AESBLOC---] Bloc 2 encoded\n",
      "[AES-------] Text encoded\n",
      "Cipher text : 92cd969942f78d7a6a70509961be177f00ee6dd6690c7dec589e8475ed20b19ade52ea18764478d0dab23a057495b1b4\n"
     ]
    }
   ],
   "source": [
    "def AESBloc(state_in, numBloc):\n",
    "    print(\"[AESBLOC---] Starting encoding bloc \" + str(numBloc))\n",
    "    state_out = copy.deepcopy(state_in)\n",
    "    for i in range(0, 11):\n",
    "        state_out = AESRound(state_out, i)\n",
    "    print(\"[AESBLOC---] Bloc \" + str(numBloc) + \" encoded\")\n",
    "    return state_out\n",
    "    \n",
    "def AES(textToCipher, key):\n",
    "    # Initialization\n",
    "    print(\"[AES-------] Starting encoding text\")\n",
    "    nb_blocs = nbBlocs(textToCipher)\n",
    "    blocs_in = []\n",
    "    states_in = []\n",
    "    states_out = []\n",
    "    blocs_out = []\n",
    "    text_out = \"\"\n",
    "\n",
    "    # Key expansion\n",
    "    keys = KeyExpansion(key)\n",
    "    keys_array = [ 0x00000000 for _ in range(0, Nr + 1) ]\n",
    "    keys_type_state = [ [ [ 0 for _ in range(0, 4) ] for _ in range(0, 4) ] for _ in range(0, Nr + 1) ]\n",
    "    for i in range(0, Nr + 1):\n",
    "        keys_array[i] = wordsToKey(keys[4 * i:4 * (i + 1)])\n",
    "        keys_type_state[i] = blocToTypeState(textToBloc(keyToText(keys_array[i])))\n",
    "\n",
    "    # AES process\n",
    "    for i in range(0, nb_blocs):\n",
    "        blocs_in.append(textToBloc(textToCipher[16 * i : 16 * (i + 1)]))\n",
    "        states_in.append(blocToTypeState(blocs_in[i]))\n",
    "        states_out.append(AESBloc(states_in[i], i))\n",
    "        blocs_out.append(typeStateToBloc(states_out[i]))\n",
    "        for j in range(0, 16):\n",
    "            text_out += format(blocs_out[i][j], '02x')\n",
    "    print(\"[AES-------] Text encoded\")\n",
    "    return text_out\n",
    "\n",
    "text_to_cipher = \"j'aime ce module car il est trop bien\"\n",
    "key = 0x2b7e151628aed2a6abf7158809cf4f3c\n",
    "\n",
    "print(\"Text to cipher : \" + text_to_cipher)\n",
    "cipher_text = AES(text_to_cipher, key)\n",
    "print(\"Cipher text : \" + str(cipher_text))"
   ]
  }
 ],
 "metadata": {
  "kernelspec": {
   "display_name": "Python 3.10.8 ('envCrypto': venv)",
   "language": "python",
   "name": "python3"
  },
  "language_info": {
   "codemirror_mode": {
    "name": "ipython",
    "version": 3
   },
   "file_extension": ".py",
   "mimetype": "text/x-python",
   "name": "python",
   "nbconvert_exporter": "python",
   "pygments_lexer": "ipython3",
   "version": "3.10.8"
  },
  "orig_nbformat": 4,
  "vscode": {
   "interpreter": {
    "hash": "35294157e49280f97186f06064a9e48a336488680659f4e874a181dc756ef999"
   }
  }
 },
 "nbformat": 4,
 "nbformat_minor": 2
}
