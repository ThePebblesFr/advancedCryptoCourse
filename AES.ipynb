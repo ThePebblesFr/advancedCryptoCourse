{
 "cells": [
  {
   "cell_type": "markdown",
   "metadata": {},
   "source": [
    "## Cours Crypto Avancée - ISMIN - Advanced Encryption Standard"
   ]
  },
  {
   "cell_type": "code",
   "execution_count": 89,
   "metadata": {},
   "outputs": [],
   "source": [
    "import crypto\n",
    "import copy"
   ]
  },
  {
   "cell_type": "markdown",
   "metadata": {},
   "source": [
    "### 1. Transformation d'un bloc en état"
   ]
  },
  {
   "cell_type": "code",
   "execution_count": 106,
   "metadata": {},
   "outputs": [
    {
     "name": "stdout",
     "output_type": "stream",
     "text": [
      "[106, 39, 97, 105, 109, 101, 32, 99, 101, 32, 109, 111, 100, 117, 108, 101]\n",
      "6a2761696d65206365206d6f64756c65\n",
      "[[106, 39, 97, 105], [109, 101, 32, 99], [101, 32, 109, 111], [100, 117, 108, 101]]\n"
     ]
    }
   ],
   "source": [
    "# Exercice 1\n",
    "\n",
    "def nbBlocs(text):\n",
    "    nbBlocs = 0\n",
    "    for i in range(0, len(text)):\n",
    "        if (i % 16 == 0):\n",
    "            nbBlocs += 1\n",
    "    return nbBlocs\n",
    "\n",
    "def textToBloc(text):\n",
    "    bloc = []\n",
    "    for i in range(0, len(text)):\n",
    "        bloc.append(ord(text[i]))\n",
    "    while (len(bloc) % 16 != 0):\n",
    "        bloc.append(0)\n",
    "    return bloc\n",
    "\n",
    "def blocToTypeState(bloc):\n",
    "    state_out = [ [ 0 for i in range(0, 4) ] for j in range(0, 4) ]\n",
    "    for i in range(0, 4):\n",
    "        for j in range(0, 4):\n",
    "            state_out[i][j] = bloc[(4 * i + j)]\n",
    "    return state_out\n",
    "\n",
    "def typeStateToBloc(state):\n",
    "    bloc_out = []\n",
    "    for i in range(0, 16):\n",
    "        bloc_out.append(state[i // 4][i % 4])\n",
    "    return bloc_out\n",
    "\n",
    "texte = \"j'aime ce module\"\n",
    "bloc = textToBloc(texte)\n",
    "print(bloc)\n",
    "text_out = \"\"\n",
    "for i in range(0, 16):\n",
    "    text_out += format(bloc[i], 'x')\n",
    "print(text_out)\n",
    "nb_blocs = len(bloc) // 16\n",
    "state = blocToTypeState(bloc)\n",
    "\n",
    "print(state)"
   ]
  },
  {
   "cell_type": "markdown",
   "metadata": {},
   "source": [
    "### 2. L'algorithme de chiffrememnt"
   ]
  },
  {
   "cell_type": "code",
   "execution_count": 91,
   "metadata": {},
   "outputs": [
    {
     "name": "stdout",
     "output_type": "stream",
     "text": [
      "[[39, 34, 155, 86], [109, 10, 55, 108], [29, 120, 40, 12], [111, 76, 108, 122]]\n"
     ]
    }
   ],
   "source": [
    "# Exercice 2 - AddRoundKey\n",
    "\n",
    "key = [[77, 5, 250, 63], [0, 111, 23, 15], [120, 88, 69, 99], [11, 57, 0, 31]]\n",
    "\n",
    "def AddRoundKey(state_in, key):\n",
    "    state_out = copy.deepcopy(state_in)\n",
    "    for i in range (0, 4):\n",
    "        for j in range (0, 4):\n",
    "            state_out[i][j] = state_in[i][j] ^ key[i][j]\n",
    "    return state_out\n",
    "\n",
    "output = AddRoundKey(state, key)\n",
    "print(output)"
   ]
  },
  {
   "cell_type": "code",
   "execution_count": 92,
   "metadata": {},
   "outputs": [
    {
     "name": "stdout",
     "output_type": "stream",
     "text": [
      "[[107, 160, 67, 106], [125, 102, 162, 99], [21, 242, 178, 253], [154, 63, 165, 124]]\n"
     ]
    }
   ],
   "source": [
    "# Exercice 3 - SubBytes\n",
    "SBox_hexa = [[0x63,  0x7c, 0x77, 0x7b, 0xf2, 0x6b, 0x6f, 0xc5, 0x30, 0x01, 0x67, 0x2b, 0xfe, 0xd7, 0xab, 0x76],\n",
    "[0xca, 0x82, 0xc9, 0x7d, 0xfa, 0x59, 0x47, 0xf0, 0xad, 0xd4, 0xa2, 0xaf, 0x9c, 0xa4, 0x72, 0xc0],\n",
    "[0xb7, 0xfd, 0x93, 0x26, 0x36, 0x3f, 0xf7, 0xcc, 0x34, 0xa5, 0xe5, 0xf1, 0x71, 0xd8, 0x31, 0x15],\n",
    "[0x04, 0xc7, 0x23, 0xc3, 0x18, 0x96, 0x05, 0x9a, 0x07, 0x12, 0x80, 0xe2, 0xeb, 0x27, 0xb2, 0x75],\n",
    "[0x09, 0x83, 0x2c, 0x1a, 0x1b, 0x6e, 0x5a, 0xa0, 0x52, 0x3b, 0xd6, 0xb3, 0x29, 0xe3, 0x2f, 0x84],\n",
    "[0x53, 0xd1, 0x00, 0xed, 0x20, 0xfc, 0xb1, 0x5b, 0x6a, 0xcb, 0xbe, 0x39, 0x4a, 0x4c, 0x58, 0xcf],\n",
    "[0xd0, 0xef, 0xaa, 0xfb, 0x43, 0x4d, 0x33, 0x85, 0x45, 0xf9, 0x02, 0x7f, 0x50, 0x3c, 0x9f, 0xa8],\n",
    "[0x51, 0xa3, 0x40, 0x8f, 0x92, 0x9d, 0x38, 0xf5, 0xbc, 0xb6, 0xda, 0x21, 0x10, 0xff, 0xf3, 0xd2],\n",
    "[0xcd, 0x0c, 0x13, 0xec, 0x5f, 0x97, 0x44, 0x17, 0xc4, 0xa7, 0x7e, 0x3d, 0x64, 0x5d, 0x19, 0x73],\n",
    "[0x60, 0x81, 0x4f, 0xdc, 0x22, 0x2a, 0x90, 0x88, 0x46, 0xee, 0xb8, 0x14, 0xde, 0x5e, 0x0b, 0xdb],\n",
    "[0xe0, 0x32, 0x3a, 0x0a, 0x49, 0x06, 0x24, 0x5c, 0xc2, 0xd3, 0xac, 0x62, 0x91, 0x95, 0xe4, 0x79],\n",
    "[0xe7, 0xc8, 0x37, 0x6d, 0x8d, 0xd5, 0x4e, 0xa9, 0x6c, 0x56, 0xf4, 0xea, 0x65, 0x7a, 0xae, 0x08],\n",
    "[0xba, 0x78, 0x25, 0x2e, 0x1c, 0xa6, 0xb4, 0xc6, 0xe8, 0xdd, 0x74, 0x1f, 0x4b, 0xbd, 0x8b, 0x8a],\n",
    "[0x70, 0x3e, 0xb5, 0x66, 0x48, 0x03, 0xf6, 0x0e, 0x61, 0x35, 0x57, 0xb9, 0x86, 0xc1, 0x1d, 0x9e],\n",
    "[0xe1, 0xf8, 0x98, 0x11, 0x69, 0xd9, 0x8e, 0x94, 0x9b, 0x1e, 0x87, 0xe9, 0xce, 0x55, 0x28, 0xdf],\n",
    "[0x8c, 0xa1, 0x89, 0x0d, 0xbf, 0xe6, 0x42, 0x68, 0x41, 0x99, 0x2d, 0x0f, 0xb0, 0x54, 0xbb, 0x16]]\n",
    "\n",
    "def SubBytes(state_in):\n",
    "    state_out = copy.deepcopy(state_in)\n",
    "    for i in range(0, 4):\n",
    "        for j in range(0, 4):\n",
    "            indice_ligne = (state_in[i][j] >> 4) & 0xF\n",
    "            indice_colonne = state_in[i][j] & 0xF\n",
    "            state_out[i][j] = SBox_hexa[indice_ligne][indice_colonne]\n",
    "    return state_out\n",
    "\n",
    "state_in = [[5, 71, 100, 88], [19, 211, 26, 0], [47, 4, 62, 33], [55, 37, 41, 1]]\n",
    "state_out = SubBytes(state_in)\n",
    "print(state_out)"
   ]
  },
  {
   "cell_type": "code",
   "execution_count": 93,
   "metadata": {},
   "outputs": [
    {
     "name": "stdout",
     "output_type": "stream",
     "text": [
      "[[5, 71, 100, 88], [0, 19, 211, 26], [62, 33, 47, 4], [37, 41, 1, 55]]\n"
     ]
    }
   ],
   "source": [
    "# Exercice 7 - ShiftRows\n",
    "\n",
    "def ShiftRows(state_in):\n",
    "    state_out = copy.deepcopy(state_in)\n",
    "    for i in range(0, 4):\n",
    "        for j in range(0, 4):\n",
    "            state_out[i][j] = state_in[i][(j - i + 4) % 4]\n",
    "    return state_out\n",
    "\n",
    "state_in = [[5, 71, 100, 88], [19, 211, 26, 0], [47, 4, 62, 33], [55, 37, 41, 1]]\n",
    "state_out = ShiftRows(state_in)\n",
    "print(state_out)"
   ]
  },
  {
   "cell_type": "code",
   "execution_count": 94,
   "metadata": {},
   "outputs": [
    {
     "name": "stdout",
     "output_type": "stream",
     "text": [
      "[[39, 193, 241, 144], [101, 211, 59, 58], [17, 243, 121, 25], [93, 84, 218, 203]]\n"
     ]
    }
   ],
   "source": [
    "# Exercice 6 - MixColumn\n",
    "\n",
    "MatrixMixColumn = [[2, 3, 1, 1], [1, 2, 3, 1], [1, 1, 2, 3], [3, 1, 1, 2]]\n",
    "Polynome0 = 283\n",
    "\n",
    "def Mul2(x):\n",
    "    return x << 1 if x >> 7 == 0 else x << 1 ^ Polynome0\n",
    "\n",
    "def Mul3(x):\n",
    "    return (Mul2(x) ^ x) if (Mul2(x) ^ x) >> 8 == 0 else (Mul2(x) ^ x) ^ Polynome0\n",
    "\n",
    "def MixColumn(state_in):\n",
    "    state_out = copy.deepcopy(state_in)\n",
    "    for i in range(0, 4):\n",
    "        for j in range(0, 4):\n",
    "            result_item = 0\n",
    "            for k in range(0, 4):\n",
    "                if (MatrixMixColumn[i][k] == 2):\n",
    "                    product = Mul2(state_in[k][j])\n",
    "                elif (MatrixMixColumn[i][k] == 3):\n",
    "                    product = Mul3(state_in[k][j])\n",
    "                else:\n",
    "                    product = state_in[k][j]\n",
    "                result_item ^= product\n",
    "            state_out[i][j] = result_item\n",
    "    return state_out\n",
    "\n",
    "state_in = [[5, 71, 100, 88], [19, 211, 26, 0], [47, 4, 62, 33], [55, 37, 41, 1]]\n",
    "state_out = MixColumn(state_in)\n",
    "print(state_out)"
   ]
  },
  {
   "cell_type": "code",
   "execution_count": 103,
   "metadata": {},
   "outputs": [
    {
     "name": "stdout",
     "output_type": "stream",
     "text": [
      "b623b432c5aeafa61f411c78f2df55cd\n"
     ]
    }
   ],
   "source": [
    "# AES - Architecture globale\n",
    "keys = [[[0x00, 0x00, 0x00, 0x00], [0x00, 0x00, 0x00, 0x00], [0x00, 0x00, 0x00, 0x00], [0x00, 0x00, 0x00, 0x00]],\n",
    "        [[0x62, 0x63, 0x63, 0x63], [0x62, 0x63, 0x63, 0x63], [0x62, 0x63, 0x63, 0x63], [0x62, 0x63, 0x63, 0x63]],\n",
    "        [[0x9b, 0x98, 0x98, 0xc9], [0xf9, 0xfb, 0xfb, 0xaa], [0x9b, 0x98, 0x98, 0xc9], [0xf9, 0xfb, 0xfb, 0xaa]],\n",
    "        [[0x90, 0x97, 0x34, 0x50], [0x69, 0x6c, 0xcf, 0xfa], [0xf2, 0xf4, 0x57, 0x33], [0x0b, 0x0f, 0xac, 0x99]],\n",
    "        [[0xee, 0x06, 0xda, 0x7b], [0x87, 0x6a, 0x15, 0x81], [0x75, 0x9e, 0x42, 0xb2], [0x7e, 0x91, 0xee, 0x2b]],\n",
    "        [[0x7f, 0x2e, 0x2b, 0x88], [0xf8, 0x44, 0x3e, 0x09], [0x8d, 0xda, 0x7c, 0xbb], [0xf3, 0x4b, 0x92, 0x90]], \n",
    "        [[0xec, 0x61, 0x4b, 0x85], [0x14, 0x25, 0x75, 0x8c], [0x99, 0xff, 0x09, 0x37], [0x6a, 0xb4, 0x9b, 0xa7]],\n",
    "        [[0x21, 0x75, 0x17, 0x87], [0x35, 0x50, 0x62, 0x0b], [0xac, 0xaf, 0x6b, 0x3c], [0xc6, 0x1b, 0xf0, 0x9b]],\n",
    "        [[0x0e, 0xf9, 0x03, 0x33], [0x3b, 0xa9, 0x61, 0x38], [0x97, 0x06, 0x0a, 0x04], [0x51, 0x1d, 0xfa, 0x9f]],\n",
    "        [[0xb1, 0xd4, 0xd8, 0xe2], [0x8a, 0x7d, 0xb9, 0xda], [0x1d, 0x7b, 0xb3, 0xde], [0x4c, 0x66, 0x49, 0x41]],\n",
    "        [[0xb4, 0xef, 0x5b, 0xcb], [0x3e, 0x92, 0xe2, 0x11], [0x23, 0xe9, 0x51, 0xcf], [0x6f, 0x8f, 0x18, 0x8e]]]\n",
    "\n",
    "def AESRound(state_in, i):\n",
    "    state_out = copy.deepcopy(state_in)\n",
    "    if (i == 0):\n",
    "        state_out = AddRoundKey(state_in, keys[i])\n",
    "    elif (i == 10):\n",
    "        state_out = AddRoundKey(ShiftRows(SubBytes(state_in)), keys[i])\n",
    "    else:\n",
    "        AddRoundKey(MixColumn(ShiftRows(SubBytes(state_in))), keys[i])\n",
    "    return state_out\n",
    "\n",
    "def AESBloc(state_in):\n",
    "    state_out = copy.deepcopy(state_in)\n",
    "    for i in range(0, 11):\n",
    "        state_out = AESRound(state_out, i)\n",
    "    return state_out\n",
    "    \n",
    "def AES(textToCipher):\n",
    "    nb_blocs = nbBlocs(textToCipher)\n",
    "    blocs_in = []\n",
    "    states_in = []\n",
    "    states_out = []\n",
    "    blocs_out = []\n",
    "    text_out = \"\"\n",
    "    for i in range(0, nb_blocs):\n",
    "        blocs_in.append(textToBloc(textToCipher[16 * i : 16 * (i + 1)]))\n",
    "        states_in.append(blocToTypeState(blocs_in[i]))\n",
    "        states_out.append(AESBloc(states_in[i]))\n",
    "        blocs_out.append(typeStateToBloc(states_out[i]))\n",
    "        for j in range((nb_blocs - 1) * 16, nb_blocs * 16):\n",
    "            text_out += format(blocs_out[i][j], 'x')\n",
    "    return text_out\n",
    "\n",
    "text_to_cipher = \"j'aime ce module\"\n",
    "cipher_text = AES(text_to_cipher)\n",
    "print(cipher_text)"
   ]
  },
  {
   "cell_type": "code",
   "execution_count": null,
   "metadata": {},
   "outputs": [],
   "source": [
    "# Key expansion\n",
    "\n",
    "def KeyExpansion(key):\n",
    "    w = [()]*44\n",
    "\n",
    "    for i in range(4):\n",
    "\t    w[i] = (key[4*i], key[4*i+1], key[4*i+2], key[4*i+3])"
   ]
  }
 ],
 "metadata": {
  "kernelspec": {
   "display_name": "Python 3.10.8 ('envCrypto': venv)",
   "language": "python",
   "name": "python3"
  },
  "language_info": {
   "codemirror_mode": {
    "name": "ipython",
    "version": 3
   },
   "file_extension": ".py",
   "mimetype": "text/x-python",
   "name": "python",
   "nbconvert_exporter": "python",
   "pygments_lexer": "ipython3",
   "version": "3.10.8"
  },
  "orig_nbformat": 4,
  "vscode": {
   "interpreter": {
    "hash": "dd793a377400b554079a265ff0fe7300212f86d3a18a3f8cd495f044d9db78c0"
   }
  }
 },
 "nbformat": 4,
 "nbformat_minor": 2
}
